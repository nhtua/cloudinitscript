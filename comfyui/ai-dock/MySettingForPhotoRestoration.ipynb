{
 "cells": [
  {
   "cell_type": "markdown",
   "id": "889cc09d-f025-4890-825e-549c7f99ab60",
   "metadata": {},
   "source": [
    "## Download and setting for Photo Restoration model (from Microsoft)\n",
    "https://github.com/cdb-boop/ComfyUI-Bringing-Old-Photos-Back-to-Life\n",
    "\n",
    "You will need to run the block below twice. 1st to download. 2nd to copy."
   ]
  },
  {
   "cell_type": "code",
   "execution_count": null,
   "id": "4b5b293b-4334-4581-9b6f-4911b60f82c7",
   "metadata": {},
   "outputs": [],
   "source": []
  },
  {
   "cell_type": "code",
   "execution_count": 23,
   "id": "a1e26310-491e-4ac5-b85f-bd15a03acbb7",
   "metadata": {},
   "outputs": [
    {
     "name": "stdout",
     "output_type": "stream",
     "text": [
      "Copied Microsoft restorating photos model\n"
     ]
    }
   ],
   "source": [
    "import os\n",
    "\n",
    "WS=os.getenv('WORKSPACE')\n",
    "COMFY_M=WS+'ComfyUI/models'\n",
    "DL=WS+'/downloads'\n",
    "\n",
    "\n",
    "file1 = DL+'/ms_restoration.zip'\n",
    "\n",
    "if not os.path.isfile(file1):\n",
    "    !wget -P ${WORKSPACE}downloads -O ms_restoration.zip https://github.com/microsoft/Bringing-Old-Photos-Back-to-Life/releases/download/v1.0/global_checkpoints.zip\n",
    "\n",
    "os.chdir(DL)\n",
    "if not os.path.exists('checkpoints'):    \n",
    "    !unzip {file1}\n",
    "else:\n",
    "    !echo \"Copying model files...\"\n",
    "    !mkdir -p {COMFY_M}/vae/restoration/VAE_A_quality\n",
    "    !mkdir -p {COMFY_M}/vae/restoration/VAE_B_quality\n",
    "    !mkdir -p {COMFY_M}/vae/restoration/VAE_B_scratch\n",
    "    !cp checkpoints/restoration/VAE_A_quality/latest_net_G.pth {COMFY_M}/vae/restoration/VAE_A_quality\n",
    "    !cp checkpoints/restoration/VAE_B_quality/latest_net_G.pth {COMFY_M}/vae/restoration/VAE_B_quality\n",
    "    !cp checkpoints/restoration/VAE_B_scratch/latest_net_G.pth {COMFY_M}/vae/restoration/VAE_B_scratch\n",
    "\n",
    "    !mkdir -p {COMFY_M}/checkpoints/restoration/mapping_quality\n",
    "    !mkdir -p {COMFY_M}/checkpoints/restoration/mapping_scratch\n",
    "    !mkdir -p {COMFY_M}/checkpoints/restoration/mapping_Patch_Attention\n",
    "    !cp checkpoints/restoration/mapping_quality/latest_net_mapping_net.pth {COMFY_M}/restoration/mapping_quality\n",
    "    !cp checkpoints/restoration/mapping_scratch/latest_net_mapping_net.pth {COMFY_M}/restoration/mapping_scratch\n",
    "    !cp checkpoints/restoration/mapping_Patch_Attention/latest_net_mapping_net.pth {COMFY_M}/restoration/mapping_Patch_Attention\n",
    "\n",
    "    !mkdir -p {COMFY_M}/checkpoints/detection\n",
    "    !cp checkpoints/detection/FT_Epoch_latest.pt {COMFY_M}/detection\n",
    "  \n",
    "    !echo \"Copied Microsoft restorating photos model\"\n",
    "    !rm -r {DL}/checkpoints\n",
    "\n"
   ]
  },
  {
   "cell_type": "code",
   "execution_count": 6,
   "id": "9a7599d0-5da1-457a-93ef-79329b081516",
   "metadata": {},
   "outputs": [
    {
     "name": "stdout",
     "output_type": "stream",
     "text": [
      "detection\n",
      "juggernautXL_v9Rdphoto2Lightning.md\n",
      "juggernautXL_v9Rdphoto2Lightning.safetensors\n",
      "juggernautXL_v9Rdphoto2Lightning.webp\n",
      "put_checkpoints_here\n",
      "put_unet_files_here\n",
      "restoration\n",
      "sd_xl_base_1.0.safetensors\n",
      "sd_xl_refiner_1.0.safetensors\n",
      "sdxl10ArienmixxlAsian_v45Pruned.md\n",
      "sdxl10ArienmixxlAsian_v45Pruned.safetensors\n",
      "sdxl10ArienmixxlAsian_v45Pruned.webp\n",
      "v1-5-pruned-emaonly.ckpt\n"
     ]
    }
   ],
   "source": [
    "import os\n",
    "WS=os.getenv('WORKSPACE')\n",
    "COMFY_M=WS+'ComfyUI/models'\n",
    "DL=WS+'/downloads'\n",
    "\n",
    "!ls {COMFY_M}/checkpoints/"
   ]
  },
  {
   "cell_type": "markdown",
   "id": "74e3b046-e9ce-4420-b1d5-cfad6f19c17d",
   "metadata": {},
   "source": [
    "# Download ControlNet models\n",
    "\n",
    "1. Install Comfy_Model-Manager plugin\n",
    "2. Download from HuggingFace into `models/controlnet`, filenames should be the repo name\n",
    "3. https://huggingface.co/xinsir/controlnet-depth-sdxl-1.0\n",
    "4. https://huggingface.co/xinsir/controlnet-openpose-sdxl-1.0\n",
    "5. https://huggingface.co/xinsir/controlnet-tile-sdxl-1.0\n",
    "6. https://huggingface.co/xinsir/controlnet-scribble-sdxl-1.0"
   ]
  },
  {
   "cell_type": "markdown",
   "id": "ce6e86b2-452e-4c52-9b40-47acd0a778ce",
   "metadata": {},
   "source": [
    "## Download Diffusio models\n",
    "\n",
    "1. Flux mini\n",
    "2. Flux_lora_face02_Vietnamese_RC Hoang.safetensors"
   ]
  }
 ],
 "metadata": {
  "kernelspec": {
   "display_name": "Python3 (ipykernel)",
   "language": "python",
   "name": "python3"
  },
  "language_info": {
   "codemirror_mode": {
    "name": "ipython",
    "version": 3
   },
   "file_extension": ".py",
   "mimetype": "text/x-python",
   "name": "python",
   "nbconvert_exporter": "python",
   "pygments_lexer": "ipython3",
   "version": "3.10.12"
  }
 },
 "nbformat": 4,
 "nbformat_minor": 5
}
